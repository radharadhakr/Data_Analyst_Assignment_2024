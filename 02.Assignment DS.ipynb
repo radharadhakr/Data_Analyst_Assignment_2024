{
 "cells": [
  {
   "cell_type": "markdown",
   "id": "9ea99fc0-90de-4ed2-a0c4-dbc7468a9b8b",
   "metadata": {},
   "source": [
    "## 02 .Assignmnet - Data Structure .\n"
   ]
  },
  {
   "cell_type": "markdown",
   "id": "20761bf1-ba25-4623-a4a3-85b6e40b0221",
   "metadata": {},
   "source": [
    "## 1.Discuss string slicing and provide examples."
   ]
  },
  {
   "cell_type": "markdown",
   "id": "dfe4101b-0f90-468c-865f-b7ca9aedda95",
   "metadata": {},
   "source": [
    "\n",
    "---> String slicing in python allows us to access a subset of characters from a string using a specific syntax.\n",
    "- Syntax : 'string[start:stop:step]'\n",
    "    - 'start': The starting index of the slice(inclusive).\n",
    "    - 'stop' : The ending index of the slice(exclusive).\n",
    "    - 'step' : The step size or the interval between indices(Optional).\n",
    "    "
   ]
  },
  {
   "cell_type": "markdown",
   "id": "266aa668-ed93-4fdb-aa02-ba838ea92f50",
   "metadata": {},
   "source": [
    "- Extracting substrings:\n",
    "    - You can extract a substring from a given string by specifying the 'start' and 'stop' indices."
   ]
  },
  {
   "cell_type": "code",
   "execution_count": 1,
   "id": "615adf61-8270-4a70-945a-b9bd0e13d362",
   "metadata": {},
   "outputs": [
    {
     "name": "stdout",
     "output_type": "stream",
     "text": [
      "Hello\n"
     ]
    }
   ],
   "source": [
    "#Example : \n",
    "text = \"Hello,World!\"\n",
    "print(text[0:5] )"
   ]
  },
  {
   "cell_type": "markdown",
   "id": "8609b49c-df09-471e-bf49-e42627828283",
   "metadata": {},
   "source": [
    "- Using step Parameter:\n",
    "    - The 'step' parameter allows you to skip characters in the string .\n",
    "    "
   ]
  },
  {
   "cell_type": "code",
   "execution_count": 2,
   "id": "8f5388e8-8722-458a-8e41-82538a92e570",
   "metadata": {},
   "outputs": [
    {
     "name": "stdout",
     "output_type": "stream",
     "text": [
      "Hlo ol\n"
     ]
    }
   ],
   "source": [
    "## Example :\n",
    "text = \"Hello, world!\"\n",
    "print(text[0:12:2])"
   ]
  },
  {
   "cell_type": "markdown",
   "id": "219d4ecd-bdea-4cad-b837-c36cd8f40756",
   "metadata": {},
   "source": [
    "- Negative Indices:\n",
    "    - Negative indices can be used to slice strings from the end.\n",
    "    "
   ]
  },
  {
   "cell_type": "code",
   "execution_count": 3,
   "id": "0cf4842a-3619-4b95-a629-dbaf61514cb0",
   "metadata": {},
   "outputs": [
    {
     "name": "stdout",
     "output_type": "stream",
     "text": [
      "World\n"
     ]
    }
   ],
   "source": [
    "## Example :\n",
    "text = \"Hello, World!\"\n",
    "print(text[-6:-1:])"
   ]
  },
  {
   "cell_type": "markdown",
   "id": "426d8e73-ba25-48e4-8573-cea4e8f3ab67",
   "metadata": {},
   "source": [
    "- Ommiting Indices:\n",
    "- Omitting 'start' , 'stop' , or 'step' use default values .\n",
    "    - 'start' default to 0 .\n",
    "    - 'stop' defaults to the length of the string .\n",
    "    - 'step' defaults to 1."
   ]
  },
  {
   "cell_type": "code",
   "execution_count": 4,
   "id": "78217135-9bcd-49c7-83fd-e515a4f746cc",
   "metadata": {},
   "outputs": [
    {
     "name": "stdout",
     "output_type": "stream",
     "text": [
      "Hello\n",
      "World!\n",
      "Hlo ol!\n"
     ]
    }
   ],
   "source": [
    "## Examples:\n",
    "text = \"Hello, World!\"\n",
    "print(text[:5])\n",
    "print(text[7:])\n",
    "print(text[::2])"
   ]
  },
  {
   "cell_type": "markdown",
   "id": "b595682e-ca11-4b54-8939-282408518da0",
   "metadata": {},
   "source": [
    "## 2.Explain the key features of lists in Python."
   ]
  },
  {
   "cell_type": "markdown",
   "id": "1db1e340-689e-451c-a462-e37ba74818d3",
   "metadata": {},
   "source": [
    "#### 1. Dynamic Size :\n",
    "- Lists in python are dynamic , meaning they can grow and shrink in size ad needed."
   ]
  },
  {
   "cell_type": "code",
   "execution_count": 5,
   "id": "64dc3a16-94fb-4a07-a717-b91b15c50bfd",
   "metadata": {},
   "outputs": [
    {
     "data": {
      "text/plain": [
       "[1, 2, 3]"
      ]
     },
     "execution_count": 5,
     "metadata": {},
     "output_type": "execute_result"
    }
   ],
   "source": [
    "## Example :\n",
    "my_list = [1 ,2 ,3]\n",
    "my_list.append(4)\n",
    "my_list.pop()\n",
    "my_list"
   ]
  },
  {
   "cell_type": "markdown",
   "id": "a58ee8f8-309f-4ce3-81a6-2f894a43b99a",
   "metadata": {},
   "source": [
    "#### 2. Heterogeneous Elements : \n",
    "- List can contain elements of different data types , including integers, strings , floats , and even other lists."
   ]
  },
  {
   "cell_type": "code",
   "execution_count": 6,
   "id": "9fb27dbc-cc74-48aa-b22d-9c4b4db9ac4d",
   "metadata": {},
   "outputs": [],
   "source": [
    "## Example:\n",
    "my_list = [1 , \"two\" , 3.0 , [4,5]]"
   ]
  },
  {
   "cell_type": "markdown",
   "id": "83a55452-1e90-4d79-9563-9d18dc9ddbc6",
   "metadata": {},
   "source": [
    "#### 3. Indexing and slicing:\n",
    "- List support indexing and slicing , allowing access to individual or sublists."
   ]
  },
  {
   "cell_type": "code",
   "execution_count": 7,
   "id": "49533f17-f0ae-4d68-b1c5-9fed861aff38",
   "metadata": {},
   "outputs": [
    {
     "name": "stdout",
     "output_type": "stream",
     "text": [
      "1\n",
      "[2, 3, 4]\n"
     ]
    }
   ],
   "source": [
    "## Example :\n",
    "my_list = [1,2,3,4,5]\n",
    "print(my_list[0])\n",
    "print(my_list[1:4])"
   ]
  },
  {
   "cell_type": "markdown",
   "id": "c1c06a36-a9a2-4b2a-b217-c6dd0b926c3f",
   "metadata": {},
   "source": [
    "#### 4. Mutable:\n",
    "- Lists are mutable, meaning their elements can be changed after the list has been created ."
   ]
  },
  {
   "cell_type": "code",
   "execution_count": 8,
   "id": "f13958fc-5180-4bb4-b276-5cd37a7cc5a0",
   "metadata": {},
   "outputs": [
    {
     "data": {
      "text/plain": [
       "[1, 'two', 3]"
      ]
     },
     "execution_count": 8,
     "metadata": {},
     "output_type": "execute_result"
    }
   ],
   "source": [
    "## Examples:\n",
    "my_list =[1 ,2 ,3]\n",
    "my_list[1] = \"two\"\n",
    "my_list"
   ]
  },
  {
   "cell_type": "markdown",
   "id": "446383ec-77e3-49b3-90b6-133656bc6724",
   "metadata": {},
   "source": [
    "#### 5. Built-in Methods :\n",
    "- Python lists come with a variety of built-in  methods for common opertions like adding , removing , and stroing elements. "
   ]
  },
  {
   "cell_type": "code",
   "execution_count": 9,
   "id": "a17f9e99-7ac7-4e8e-8a01-fb937b1f8706",
   "metadata": {},
   "outputs": [
    {
     "name": "stdout",
     "output_type": "stream",
     "text": [
      "[1, 1, 1, 3, 4, 5, 5, 6, 7]\n"
     ]
    }
   ],
   "source": [
    "## Examples:\n",
    "my_list = [3 , 1, 4, 1, 5,6,5]\n",
    "my_list.append(7)\n",
    "my_list.append(1)\n",
    "my_list.sort()\n",
    "print(my_list)"
   ]
  },
  {
   "cell_type": "markdown",
   "id": "1da85b7d-a38d-4ede-96af-51bf08f26f3d",
   "metadata": {},
   "source": [
    "These features make list a flexible and powerful tool for handling collections in python ."
   ]
  },
  {
   "cell_type": "markdown",
   "id": "f8da8bef-ddf8-4727-9f8a-c970c081fdd4",
   "metadata": {},
   "source": [
    "## 3. Describe how to access, modify, and delete elements in a list with examples"
   ]
  },
  {
   "cell_type": "markdown",
   "id": "8d96e92e-a73b-483f-9eb4-501eb4cd4cdb",
   "metadata": {},
   "source": [
    "####  Accessing Elements :"
   ]
  },
  {
   "cell_type": "markdown",
   "id": "22217147-ba7f-4f55-bbda-3a3d6992ec0e",
   "metadata": {},
   "source": [
    "- Access by Index : Use square brackets'[]' with the index to access a specific elements .\n"
   ]
  },
  {
   "cell_type": "code",
   "execution_count": 10,
   "id": "dc6e084c-163f-4d6b-8774-3b494724f691",
   "metadata": {},
   "outputs": [
    {
     "name": "stdout",
     "output_type": "stream",
     "text": [
      "30\n"
     ]
    }
   ],
   "source": [
    "my_list = [10 , 20 , 30 , 40 ,50 ]\n",
    "print(my_list[2])"
   ]
  },
  {
   "cell_type": "markdown",
   "id": "251d5b4d-ef38-4c06-923c-7fab5b7b53a4",
   "metadata": {},
   "source": [
    "- Access by Slicing :Use the colon ':' to slice a sublist ."
   ]
  },
  {
   "cell_type": "markdown",
   "id": "a0afd16c-6265-4379-92ec-e870ed96cd95",
   "metadata": {},
   "source": [
    "#### Modifying Elements : "
   ]
  },
  {
   "cell_type": "markdown",
   "id": "d1168af0-f3b5-470d-a93a-a9eaae00fdfb",
   "metadata": {},
   "source": [
    "- Modify by index : Assign a new value to a specific index ."
   ]
  },
  {
   "cell_type": "code",
   "execution_count": 11,
   "id": "52307ae0-681f-4c83-8904-372f166bf148",
   "metadata": {},
   "outputs": [
    {
     "name": "stdout",
     "output_type": "stream",
     "text": [
      "[10, 20, 35, 40, 50]\n"
     ]
    }
   ],
   "source": [
    "my_list[2] = 35\n",
    "print(my_list)\n"
   ]
  },
  {
   "cell_type": "markdown",
   "id": "9f5e6231-4b5c-48c4-83a6-9d85c54dde5e",
   "metadata": {},
   "source": [
    "- Modify by slicing: Assign a new list to a slice "
   ]
  },
  {
   "cell_type": "code",
   "execution_count": 12,
   "id": "fd7ae99c-4921-491d-975b-87b9463ea783",
   "metadata": {},
   "outputs": [
    {
     "name": "stdout",
     "output_type": "stream",
     "text": [
      "[10, 25, 35, 40, 50]\n"
     ]
    }
   ],
   "source": [
    "my_list[1:3] = [25 , 35 ]\n",
    "print(my_list)"
   ]
  },
  {
   "cell_type": "markdown",
   "id": "27a5208f-0958-44e5-900c-c4aecbb8fa49",
   "metadata": {},
   "source": [
    "#### Deleting elements :\n"
   ]
  },
  {
   "cell_type": "markdown",
   "id": "b90421b8-3039-4dcf-843d-d160ff78a9b6",
   "metadata": {},
   "source": [
    "- Delete by index : Use 'del' keyword to delete a specific index "
   ]
  },
  {
   "cell_type": "code",
   "execution_count": 13,
   "id": "4e242d73-129a-4c0a-9e7b-ee643b5c85a8",
   "metadata": {},
   "outputs": [
    {
     "name": "stdout",
     "output_type": "stream",
     "text": [
      "[10, 25, 40, 50]\n"
     ]
    }
   ],
   "source": [
    "del my_list[2]\n",
    "print(my_list)"
   ]
  },
  {
   "cell_type": "markdown",
   "id": "e026b064-4e1c-45d3-aab6-3a7730caad35",
   "metadata": {},
   "source": [
    "- Delete by slicing : USe 'del' keyword to delete a slice ."
   ]
  },
  {
   "cell_type": "code",
   "execution_count": 14,
   "id": "642fc4d6-1974-4776-b49a-94153ab7decc",
   "metadata": {},
   "outputs": [
    {
     "name": "stdout",
     "output_type": "stream",
     "text": [
      "[10, 50]\n"
     ]
    }
   ],
   "source": [
    "del my_list[1:3]\n",
    "print(my_list)\n"
   ]
  },
  {
   "cell_type": "markdown",
   "id": "fb958eb0-c087-4026-acdc-dbdf68510397",
   "metadata": {},
   "source": [
    "- Remove by value  : use the 'remove()' method to delete the first occurence of a value. "
   ]
  },
  {
   "cell_type": "code",
   "execution_count": 15,
   "id": "7fd7a41b-28dd-4c88-99fe-6793bcd33794",
   "metadata": {},
   "outputs": [
    {
     "name": "stdout",
     "output_type": "stream",
     "text": [
      "[10, 20, 40, 50]\n"
     ]
    }
   ],
   "source": [
    "my_list = [10 , 20 , 30 , 40 , 50 ]\n",
    "my_list.remove(30)\n",
    "print(my_list)"
   ]
  },
  {
   "cell_type": "markdown",
   "id": "cd688f4c-8799-4cca-838e-60575a502c75",
   "metadata": {},
   "source": [
    "- Pop by index : Use the 'pop()' method to remove and return the element at specific index ."
   ]
  },
  {
   "cell_type": "code",
   "execution_count": 16,
   "id": "bd7fe795-c59b-4484-985b-690b4c475ffc",
   "metadata": {},
   "outputs": [
    {
     "name": "stdout",
     "output_type": "stream",
     "text": [
      "20\n",
      "[10, 40, 50]\n"
     ]
    }
   ],
   "source": [
    "element = my_list.pop(1)\n",
    "print(element)\n",
    "print(my_list)"
   ]
  },
  {
   "cell_type": "markdown",
   "id": "d1c631b2-8cbd-4d62-9668-89c7a092238b",
   "metadata": {},
   "source": [
    " ## 4.Compare and contrast tuples and lists with examples"
   ]
  },
  {
   "cell_type": "markdown",
   "id": "6b32c2de-1e60-4663-81b5-8563ff3e9277",
   "metadata": {},
   "source": [
    "### Comparision of tuple and lists ."
   ]
  },
  {
   "cell_type": "markdown",
   "id": "088164b6-f008-45e0-958f-830ee64b68e6",
   "metadata": {},
   "source": [
    "#### 1.Mutability :\n",
    "- Lists : Mutable (elements can be changed)\n"
   ]
  },
  {
   "cell_type": "code",
   "execution_count": 17,
   "id": "42e14249-b1c2-42ad-bcca-002bf1a29723",
   "metadata": {},
   "outputs": [
    {
     "name": "stdout",
     "output_type": "stream",
     "text": [
      "[1, 4, 3]\n"
     ]
    }
   ],
   "source": [
    "my_list = [1 , 2, 3]\n",
    "my_list[1] = 4\n",
    "print(my_list)"
   ]
  },
  {
   "cell_type": "markdown",
   "id": "0d84387b-42fc-422b-aa8a-b8a2c5b72e13",
   "metadata": {},
   "source": [
    "- Tuples : Immutable (elements cannot be changed)"
   ]
  },
  {
   "cell_type": "code",
   "execution_count": 18,
   "id": "a4f0db24-5aed-4160-928e-743d9a4fd46a",
   "metadata": {},
   "outputs": [],
   "source": [
    "my_tuple = (1 ,2 ,3)\n",
    "# my_tuple[1]  = 4"
   ]
  },
  {
   "cell_type": "markdown",
   "id": "6a7b8295-2708-432a-ada1-4e327704e18d",
   "metadata": {},
   "source": [
    "#### 2. Syntax :\n",
    "- Lists: Defined with square brackets '[]'"
   ]
  },
  {
   "cell_type": "code",
   "execution_count": 19,
   "id": "75a44b1d-6a2a-4c88-8e01-e7e09df0012e",
   "metadata": {},
   "outputs": [],
   "source": [
    "my_list = [1, 2, 3 ]"
   ]
  },
  {
   "cell_type": "markdown",
   "id": "59b09a9f-1e4a-46c9-b6df-9c7775997179",
   "metadata": {},
   "source": [
    "- Tuples: Defined with parenthesis '()'"
   ]
  },
  {
   "cell_type": "code",
   "execution_count": 20,
   "id": "6b72a0af-ccf2-4a7d-a868-3faf5aedb3fd",
   "metadata": {},
   "outputs": [],
   "source": [
    "my_tuple = (1 ,2 , 3)"
   ]
  },
  {
   "cell_type": "markdown",
   "id": "c43dcc93-84a7-4365-8687-1aab91f13ae1",
   "metadata": {},
   "source": [
    "3. Use Cases :\n",
    "    - Lists: Suitable for conditions of items that may need to be modified .\n",
    "    - Tuples : suitable for fixed collections of items , often used for heterogeneous data "
   ]
  },
  {
   "cell_type": "code",
   "execution_count": 21,
   "id": "67493ee8-08f4-4e5f-8670-81ca00ff94d6",
   "metadata": {},
   "outputs": [],
   "source": [
    "person = (\"Jhon\" , 25 , \"Engineer\")"
   ]
  },
  {
   "cell_type": "markdown",
   "id": "b14d89ac-f7c4-48d1-aad5-cdbe750d368c",
   "metadata": {},
   "source": [
    "#### 4.  Performance:\n",
    "- Lists: Slower due to  mutability overhead .\n",
    "- Tuples : Faster due to immutability ."
   ]
  },
  {
   "cell_type": "code",
   "execution_count": 22,
   "id": "7ef72a54-c058-413e-9a18-3a395e423b0e",
   "metadata": {},
   "outputs": [
    {
     "name": "stdout",
     "output_type": "stream",
     "text": [
      "0.6781443953514099\n",
      "0.15273280441761017\n"
     ]
    }
   ],
   "source": [
    "import timeit\n",
    "print(timeit.timeit(\"x = [1 , 2, 3, 4,5]\", number= 10000000))\n",
    "print(timeit.timeit(\"x = (1 , 2,3, 4,5)\" , number= 10000000))"
   ]
  },
  {
   "cell_type": "markdown",
   "id": "611b44ee-ac15-4b56-afe3-8c6b5d30bd5a",
   "metadata": {},
   "source": [
    "## Functions and Methods : \n",
    "- Lists : Have more buit in methods like 'append()', 'remove()', 'sort()'"
   ]
  },
  {
   "cell_type": "code",
   "execution_count": 23,
   "id": "29dcc278-03db-4bdd-aa50-86833a38a711",
   "metadata": {},
   "outputs": [
    {
     "name": "stdout",
     "output_type": "stream",
     "text": [
      "[1, 2, 3, 4]\n"
     ]
    }
   ],
   "source": [
    "my_list =[1 ,2 , 3]\n",
    "my_list.append(4)\n",
    "print(my_list)"
   ]
  },
  {
   "cell_type": "markdown",
   "id": "61e58840-4c74-4d3e-8904-5b57c50b2937",
   "metadata": {},
   "source": [
    "- Tuples : Have fewer built -in methods (eg. 'count()', 'index()')"
   ]
  },
  {
   "cell_type": "code",
   "execution_count": 24,
   "id": "4e96c4a3-efef-49b8-ad2d-bb4785503983",
   "metadata": {},
   "outputs": [
    {
     "name": "stdout",
     "output_type": "stream",
     "text": [
      "2\n"
     ]
    }
   ],
   "source": [
    "my_tuple = (1 , 2 , 3 , 2)\n",
    "print(my_tuple.count(2))"
   ]
  },
  {
   "cell_type": "markdown",
   "id": "2c595211-d6bb-4cdc-ba05-3e18533f8dd1",
   "metadata": {},
   "source": [
    "These points highlight the key differneces and similiraties between tuples and lists , showchasing their distinct use cases and properties ."
   ]
  },
  {
   "cell_type": "markdown",
   "id": "22ba1cd3-36f3-4b99-95ec-c3c4db387c01",
   "metadata": {},
   "source": [
    "#### 5. Describe the key features of sets and provide examples of their use. \n",
    "\n",
    "#### --->key Features of sets in Python \n",
    "#### 1. Unordered Collection :\n",
    "- sets do not maintain any order of elements .\n"
   ]
  },
  {
   "cell_type": "code",
   "execution_count": 25,
   "id": "b5745f25-7f64-43f9-8371-9bdd7c5c3631",
   "metadata": {},
   "outputs": [
    {
     "name": "stdout",
     "output_type": "stream",
     "text": [
      "{1, 2, 3}\n"
     ]
    }
   ],
   "source": [
    "my_set = {1 , 2, 3}\n",
    "print(my_set)"
   ]
  },
  {
   "cell_type": "markdown",
   "id": "c85ea581-17b8-40fe-8827-a23d29c859c0",
   "metadata": {},
   "source": [
    "#### 2. Unique Elements:\n",
    "- sets automatically ensures all elements are unique ; duplicates are not allowed .\n"
   ]
  },
  {
   "cell_type": "code",
   "execution_count": 26,
   "id": "a7473852-8931-4304-ba1e-5d9a01f7e940",
   "metadata": {},
   "outputs": [
    {
     "name": "stdout",
     "output_type": "stream",
     "text": [
      "{1, 2, 3}\n"
     ]
    }
   ],
   "source": [
    "my_set = {1 , 2 ,2, 3}\n",
    "print(my_set)"
   ]
  },
  {
   "cell_type": "markdown",
   "id": "3f1ebd15-cb9f-4c08-a482-1c944039de6b",
   "metadata": {},
   "source": [
    "#### 3. Mutable:\n",
    "- Elements can be added or removed from a set ."
   ]
  },
  {
   "cell_type": "code",
   "execution_count": 27,
   "id": "e212bb2c-afaf-4b9a-aae2-896a67227f0d",
   "metadata": {},
   "outputs": [
    {
     "name": "stdout",
     "output_type": "stream",
     "text": [
      "{1, 2, 3, 4}\n",
      "{1, 3, 4}\n"
     ]
    }
   ],
   "source": [
    "my_set = {1 ,2 , 3}\n",
    "my_set.add(4)\n",
    "print(my_set)\n",
    "my_set.remove(2)\n",
    "print(my_set)"
   ]
  },
  {
   "cell_type": "markdown",
   "id": "99b0051e-922f-4d81-ad50-2a308455cd13",
   "metadata": {},
   "source": [
    "#### 4. Efficient Membership Testing :\n",
    "- Sets provide efficient O(1) average time complexity for checking membership."
   ]
  },
  {
   "cell_type": "code",
   "execution_count": 28,
   "id": "b6fb2f0f-8e09-44f4-9f19-788bfe7f3229",
   "metadata": {},
   "outputs": [
    {
     "name": "stdout",
     "output_type": "stream",
     "text": [
      "True\n",
      "False\n"
     ]
    }
   ],
   "source": [
    "my_set = {1 , 2,3}\n",
    "print(2  in my_set)\n",
    "print(5 in my_set)"
   ]
  },
  {
   "cell_type": "markdown",
   "id": "1adfbc22-b110-4ced-b80c-cb7ccad60252",
   "metadata": {},
   "source": [
    "#### 5. Set operations : \n",
    "- sets support operations like union , intersection and difference .\n"
   ]
  },
  {
   "cell_type": "code",
   "execution_count": 29,
   "id": "460c53aa-9c7b-4b59-bd3f-ce30c7e864ab",
   "metadata": {},
   "outputs": [
    {
     "name": "stdout",
     "output_type": "stream",
     "text": [
      "{1, 2, 3, 4, 5}\n",
      "{3}\n",
      "{1, 2}\n"
     ]
    }
   ],
   "source": [
    "set1 = {1 , 2, 3}\n",
    "set2 = {3 , 4, 5}\n",
    "print(set1.union(set2))\n",
    "print(set1.intersection(set2))\n",
    "print(set1.difference(set2))"
   ]
  },
  {
   "cell_type": "markdown",
   "id": "78999d8a-6f0b-410b-9799-346578ec7526",
   "metadata": {},
   "source": [
    "These features highlight the utility and functionality of sets , making them suitable for various tasks that require unique elements and efficient membership checks."
   ]
  },
  {
   "cell_type": "markdown",
   "id": "a7985585-b183-41a0-9c4c-830aa99e8ce0",
   "metadata": {},
   "source": [
    "## 6.Discuss the use cases of tuples and sets in Python programming."
   ]
  },
  {
   "cell_type": "markdown",
   "id": "62a2f12a-6630-4d29-9281-2126a5309dc8",
   "metadata": {},
   "source": [
    " #### 1. Fixed Collections:  \n",
    " - store related data that should not change , such coordinates ."
   ]
  },
  {
   "cell_type": "code",
   "execution_count": 30,
   "id": "7e2e228a-b678-4e6a-ab70-78f9facdbb0d",
   "metadata": {},
   "outputs": [],
   "source": [
    "point = (3 , 5)"
   ]
  },
  {
   "cell_type": "markdown",
   "id": "c0f7f6ac-41cf-4c78-8c1c-3569710da0cb",
   "metadata": {},
   "source": [
    "#### 2. Heterogeneous Data:\n",
    "- Store different data types together , like a record ."
   ]
  },
  {
   "cell_type": "code",
   "execution_count": 31,
   "id": "e6b004a4-cdcd-4428-aeaf-9deeeb6bba70",
   "metadata": {},
   "outputs": [],
   "source": [
    "person = (\"Ashutosh\" , 20 , \"Data Analyst\")"
   ]
  },
  {
   "cell_type": "markdown",
   "id": "210b2822-f203-4fe1-b225-698675dbfeb2",
   "metadata": {},
   "source": [
    "#### 3.  Dictionary keys :\n",
    "- Use tuples as keys in dictionaries because they are mutable ."
   ]
  },
  {
   "cell_type": "code",
   "execution_count": 32,
   "id": "4e7fbfbe-4777-48cc-bb8e-7bbf9468fa8e",
   "metadata": {},
   "outputs": [],
   "source": [
    "locations = {(\"Pairs\" , \"France\" ): 48.8566}"
   ]
  },
  {
   "cell_type": "markdown",
   "id": "243d7b02-eb59-41e6-b304-ed6c5bf6d17b",
   "metadata": {},
   "source": [
    "#### 4.Return Multiple Values :\n",
    "- Functions Can return multiple values using tuples."
   ]
  },
  {
   "cell_type": "code",
   "execution_count": 33,
   "id": "6d2d7648-e935-4eea-9dc0-1a42894452b8",
   "metadata": {},
   "outputs": [],
   "source": [
    "def get_name_and_age():\n",
    "    return (\"Bob\" , 25)\n",
    "name , age = get_name_and_age()"
   ]
  },
  {
   "cell_type": "markdown",
   "id": "b2c8e08a-7ac5-495e-8322-82ec5cf56a99",
   "metadata": {},
   "source": [
    "#### 5 . Unpacking : \n",
    "- Easily unpack tuple values into variables ."
   ]
  },
  {
   "cell_type": "code",
   "execution_count": 34,
   "id": "d3498cfb-0bf5-4bc7-902e-4368cd1ef206",
   "metadata": {},
   "outputs": [],
   "source": [
    "person =(\"Ashutosh\" , 20  , \"Data Analyst\")\n",
    "name , age , profession = person \n"
   ]
  },
  {
   "cell_type": "markdown",
   "id": "34f0bf34-5e6c-4134-8610-1521395ec304",
   "metadata": {},
   "source": [
    "### Use Cases of sets in Python.\n",
    "#### 1. Unique Collections:\n",
    "- Store Collections of unique items , such as unique user IDs"
   ]
  },
  {
   "cell_type": "code",
   "execution_count": 35,
   "id": "a2ce20b4-5105-45fa-b5d0-c44f7fb37437",
   "metadata": {},
   "outputs": [],
   "source": [
    "user_ids = {101 , 102 , 103}"
   ]
  },
  {
   "cell_type": "markdown",
   "id": "2dda646f-72a6-46f2-a4fb-b1a5ec2680c6",
   "metadata": {},
   "source": [
    "### 2. Membership Testing : \n",
    "- Efficiency check if an item exists in a collection .\n"
   ]
  },
  {
   "cell_type": "code",
   "execution_count": 36,
   "id": "854970f4-387f-4971-a961-09409021e943",
   "metadata": {},
   "outputs": [
    {
     "name": "stdout",
     "output_type": "stream",
     "text": [
      "True\n"
     ]
    }
   ],
   "source": [
    "user_ids = {101 , 102 , 103}\n",
    "print(101 in user_ids)"
   ]
  },
  {
   "cell_type": "markdown",
   "id": "f2585c53-a456-43ab-8b8d-3b04d7eb2ed6",
   "metadata": {},
   "source": [
    "### 3. Set Operations : \n",
    "- Perform mathematical set operations like union , intersection , and differnece."
   ]
  },
  {
   "cell_type": "code",
   "execution_count": 37,
   "id": "6de3e41e-152a-46ea-a53b-24ec550529e3",
   "metadata": {},
   "outputs": [
    {
     "data": {
      "text/plain": [
       "{3}"
      ]
     },
     "execution_count": 37,
     "metadata": {},
     "output_type": "execute_result"
    }
   ],
   "source": [
    "set1 = {1,2,3}\n",
    "set2 = {3,4,5}\n",
    "common = set1.intersection(set2)\n",
    "common"
   ]
  },
  {
   "cell_type": "markdown",
   "id": "5260dee0-5807-49d4-82b8-fed59d9f0eaa",
   "metadata": {},
   "source": [
    "#### 4.Removing Duplicates : \n",
    "- Remove duplicate items from a list."
   ]
  },
  {
   "cell_type": "code",
   "execution_count": 38,
   "id": "799e9bae-a14a-492f-91cb-f742ae403861",
   "metadata": {},
   "outputs": [
    {
     "data": {
      "text/plain": [
       "{1, 2, 3, 4}"
      ]
     },
     "execution_count": 38,
     "metadata": {},
     "output_type": "execute_result"
    }
   ],
   "source": [
    "items = [1 ,2,2, 3, 4,4]\n",
    "unique_items = set(items)\n",
    "unique_items"
   ]
  },
  {
   "cell_type": "markdown",
   "id": "0a96d0a7-580e-4698-9151-8abf9689fb97",
   "metadata": {},
   "source": [
    "#### 5. Grouping Data :\n",
    "- Group data elements based on a property , like finding unique words in a text."
   ]
  },
  {
   "cell_type": "code",
   "execution_count": 39,
   "id": "7623e7cd-2338-4614-83aa-19140a4323d2",
   "metadata": {},
   "outputs": [
    {
     "data": {
      "text/plain": [
       "{'This', 'a', 'is', 'only', 'test', 'this'}"
      ]
     },
     "execution_count": 39,
     "metadata": {},
     "output_type": "execute_result"
    }
   ],
   "source": [
    "words = \"This is a test this is only a test\".split()\n",
    "unique_words = set(words)\n",
    "unique_words"
   ]
  },
  {
   "cell_type": "markdown",
   "id": "b19908b9-10f2-49aa-8d84-750cd3724a5c",
   "metadata": {},
   "source": [
    "These use cases demonstrate the practical applications of tuples and sets in Python programming , highlight their unique properties and efficiency in different scenarios ."
   ]
  },
  {
   "cell_type": "markdown",
   "id": "7a1eb7f0-3151-4c14-a11e-2f530337f3ab",
   "metadata": {},
   "source": [
    "#### 7. Describe how to add, modify, and delete items in a dictionary with examples."
   ]
  },
  {
   "cell_type": "markdown",
   "id": "e354c79e-000f-439a-92ff-e490174a68f0",
   "metadata": {},
   "source": [
    "### 1. Adding Items: \n",
    "- Add a new key-value pair :\n",
    "        "
   ]
  },
  {
   "cell_type": "code",
   "execution_count": 40,
   "id": "0aaacda1-1169-4829-bcf7-e9a16a72572c",
   "metadata": {},
   "outputs": [
    {
     "name": "stdout",
     "output_type": "stream",
     "text": [
      "{'a': 1, 'b': 2, 'c': 3}\n"
     ]
    }
   ],
   "source": [
    "my_dict = {'a' : 1 , 'b' : 2}\n",
    "my_dict ['c'] = 3\n",
    "print(my_dict)"
   ]
  },
  {
   "cell_type": "markdown",
   "id": "9fe24934-5c8f-4247-9e08-ae4fb6d7d5b7",
   "metadata": {},
   "source": [
    "### 2. Modifying Items:\n",
    "- Modify an existing key-value pair :\n",
    "        "
   ]
  },
  {
   "cell_type": "code",
   "execution_count": 41,
   "id": "851d56a0-8fba-4836-a602-e67a6dffdf0d",
   "metadata": {},
   "outputs": [
    {
     "name": "stdout",
     "output_type": "stream",
     "text": [
      "{'a': 1, 'b': 20}\n"
     ]
    }
   ],
   "source": [
    "my_dict ={'a': 1, 'b' : 2}\n",
    "my_dict['b']=  20 \n",
    "print(my_dict)"
   ]
  },
  {
   "cell_type": "markdown",
   "id": "543e90bd-5b97-4ff4-b974-b85f81260839",
   "metadata": {},
   "source": [
    "### 3. Deleting Items :\n",
    "- Delete by key using 'del':"
   ]
  },
  {
   "cell_type": "code",
   "execution_count": 42,
   "id": "5b0fc3d5-77f8-4256-ad61-bb02c6f64c9d",
   "metadata": {},
   "outputs": [
    {
     "name": "stdout",
     "output_type": "stream",
     "text": [
      "{'a': 1, 'c': 3}\n"
     ]
    }
   ],
   "source": [
    "my_dict = {'a' : 1 , 'b' : 2 , 'c' : 3}\n",
    "del my_dict ['b']\n",
    "print(my_dict)"
   ]
  },
  {
   "cell_type": "markdown",
   "id": "818f8655-d10b-4c21-a254-83012414b785",
   "metadata": {},
   "source": [
    "- Delete  by key using 'pop()':"
   ]
  },
  {
   "cell_type": "code",
   "execution_count": 43,
   "id": "19793652-2dc8-4ab6-928d-0b162fc4ee90",
   "metadata": {},
   "outputs": [
    {
     "name": "stdout",
     "output_type": "stream",
     "text": [
      "2\n",
      "{'a': 1, 'c': 3}\n"
     ]
    }
   ],
   "source": [
    "my_dict = {'a' : 1 , 'b' : 2, 'c' : 3}\n",
    "value = my_dict.pop('b')\n",
    "print(value)\n",
    "print(my_dict)"
   ]
  },
  {
   "cell_type": "markdown",
   "id": "4abc7d52-5456-4533-b29e-3c78ee14c25f",
   "metadata": {},
   "source": [
    "- Delete by key using 'clear()':\n",
    "    "
   ]
  },
  {
   "cell_type": "code",
   "execution_count": 44,
   "id": "5a22bbc4-4b9f-42df-87ba-7d0034bf80e7",
   "metadata": {},
   "outputs": [
    {
     "name": "stdout",
     "output_type": "stream",
     "text": [
      "{}\n"
     ]
    }
   ],
   "source": [
    "my_dict = {'a' : 1 , 'b' : 2 , 'c' : 3}\n",
    "my_dict.clear()\n",
    "print(my_dict)"
   ]
  },
  {
   "cell_type": "markdown",
   "id": "ddbfb9cc-54b9-4674-85fe-aa8774ef46d1",
   "metadata": {},
   "source": [
    "These points provide a concise overview of how to manage items in a dictionary , illustrating the key operations with clear examples ."
   ]
  },
  {
   "cell_type": "markdown",
   "id": "551a4220-5bdb-4011-b2e2-49546a4ff7b6",
   "metadata": {},
   "source": [
    "### 8 .Discuss the importance of dictionary keys being immutable and provide examples"
   ]
  },
  {
   "cell_type": "markdown",
   "id": "a37df9ec-ebac-49b8-8918-c65e9e688b0b",
   "metadata": {},
   "source": [
    "#### --->  Importance of dictionaries keys being immutable."
   ]
  },
  {
   "cell_type": "markdown",
   "id": "5c40fbb7-7d6d-4883-b9f3-78279f2fd466",
   "metadata": {},
   "source": [
    "#### 1. Hashability : \n",
    "- Requirement: Dictionary keys must be hashable to maintain the integrity of the dictionary's structure . \n",
    "- Reason : Immutable objects like strings , numbers , and tuples can be hashed , ensuring consistent and reliable key comparisions .\n",
    "\n",
    "    "
   ]
  },
  {
   "cell_type": "code",
   "execution_count": 45,
   "id": "a5b27bd2-c192-4f77-b606-f0db74d90b99",
   "metadata": {},
   "outputs": [],
   "source": [
    "my_dict = {1: 'one' , 'two': 2 ,(3 , 4): 'tuple'}"
   ]
  },
  {
   "cell_type": "markdown",
   "id": "17034a42-fbc9-46d7-a60b-ed4dc0cb66f2",
   "metadata": {},
   "source": [
    "#### 2. Consistency : \n",
    "- Requirement: Immutable keys ensure the key's value doesnt change , \n",
    "maintaining dictionary consistency .\n",
    "- Reason : If keys were mutable and couldn't and could change,it  would disrupt the dictionary's intenal structure and lead to unpredictable behaviour ."
   ]
  },
  {
   "cell_type": "code",
   "execution_count": 46,
   "id": "7773aaf3-c941-4933-ba33-fda45cfc4d9e",
   "metadata": {},
   "outputs": [
    {
     "ename": "TypeError",
     "evalue": "unhashable type: 'list'",
     "output_type": "error",
     "traceback": [
      "\u001b[0;31m---------------------------------------------------------------------------\u001b[0m",
      "\u001b[0;31mTypeError\u001b[0m                                 Traceback (most recent call last)",
      "Cell \u001b[0;32mIn[46], line 1\u001b[0m\n\u001b[0;32m----> 1\u001b[0m my_list \u001b[38;5;241m=\u001b[39m {[\u001b[38;5;241m1\u001b[39m , \u001b[38;5;241m2\u001b[39m]: \u001b[38;5;124m'\u001b[39m\u001b[38;5;124mlist\u001b[39m\u001b[38;5;124m'\u001b[39m}\n\u001b[1;32m      2\u001b[0m \u001b[38;5;66;03m## Raises TypeError because lists are mutable \u001b[39;00m\n",
      "\u001b[0;31mTypeError\u001b[0m: unhashable type: 'list'"
     ]
    }
   ],
   "source": [
    "my_list = {[1 , 2]: 'list'}\n",
    "## Raises TypeError because lists are mutable "
   ]
  },
  {
   "cell_type": "markdown",
   "id": "a2e0be09-2c59-4281-ab0a-d08c9e6927e1",
   "metadata": {},
   "source": [
    "#### 3. Efficient Lookups: \n",
    "- Requirement: Immutable keys allow for efficient and fast lookups in a dictionary .\n",
    "- Reason : The immutablility ensures that the hash values of a key remains constant , enabiling quick access to values ."
   ]
  },
  {
   "cell_type": "code",
   "execution_count": 47,
   "id": "96a06129-b03b-4fa1-83eb-bd0fac1c6ff5",
   "metadata": {},
   "outputs": [
    {
     "name": "stdout",
     "output_type": "stream",
     "text": [
      "fruit\n"
     ]
    }
   ],
   "source": [
    "my_dict = {'apple':'fruit' , 'carrot': 'vegetables'}\n",
    "print(my_dict['apple'])"
   ]
  },
  {
   "cell_type": "markdown",
   "id": "ed068168-3ff9-484a-bcc1-0866f5ea5727",
   "metadata": {},
   "source": [
    "#### 4. Preventing  Errors : \n",
    "- Requirements : USing immutable keys prevents inadvertent vhanges that could introduce errors .\n",
    "- Reason : Mutable objects as key could be altered , leading to difficulty in accessing or modifying dictionary entries . "
   ]
  },
  {
   "cell_type": "code",
   "execution_count": 48,
   "id": "ec533736-c07b-40e6-9e3e-d1efc530de19",
   "metadata": {},
   "outputs": [
    {
     "name": "stdout",
     "output_type": "stream",
     "text": [
      "{(1, 2): 'value'}\n"
     ]
    }
   ],
   "source": [
    "key = (1 ,2)\n",
    "my_dict = {key : 'value'}\n",
    "key = (3 , 4)\n",
    "print(my_dict)"
   ]
  },
  {
   "cell_type": "markdown",
   "id": "da5c40f4-08e5-4050-b4de-66c9fac259b8",
   "metadata": {},
   "source": [
    "#### Reliable Data Structures : \n",
    "- Requirements: Immutable keys contibute to the reliability and predictability of data structures .\n",
    "\n",
    "- REason : Ensuring the keys remain unchanged allows dictionaries to function as dependable mappings."
   ]
  },
  {
   "cell_type": "code",
   "execution_count": 49,
   "id": "c51b921a-8e13-4ca0-a2e7-af7620fc34ea",
   "metadata": {},
   "outputs": [
    {
     "name": "stdout",
     "output_type": "stream",
     "text": [
      "unhashable type: 'list'\n"
     ]
    }
   ],
   "source": [
    "my_dict = {'a' : 1 , 'b' : 2}\n",
    "## Attempting to use a mutable object as a key \n",
    "try : \n",
    "    my_dict[[1 , 2]] ='list'\n",
    "except TypeError as e : \n",
    "    print(e)"
   ]
  },
  {
   "cell_type": "markdown",
   "id": "3db6b1c4-272e-43c3-9882-766e2008d360",
   "metadata": {},
   "source": [
    "These Points highlight the necessity of dictionaries keys being immutable in python , encuring dictionaries function correctly and efficiently . "
   ]
  },
  {
   "cell_type": "code",
   "execution_count": null,
   "id": "89684db5-3c22-48e3-a6f2-ba2a83edef7d",
   "metadata": {},
   "outputs": [],
   "source": []
  }
 ],
 "metadata": {
  "kernelspec": {
   "display_name": "Python 3 (ipykernel)",
   "language": "python",
   "name": "python3"
  },
  "language_info": {
   "codemirror_mode": {
    "name": "ipython",
    "version": 3
   },
   "file_extension": ".py",
   "mimetype": "text/x-python",
   "name": "python",
   "nbconvert_exporter": "python",
   "pygments_lexer": "ipython3",
   "version": "3.10.8"
  }
 },
 "nbformat": 4,
 "nbformat_minor": 5
}
