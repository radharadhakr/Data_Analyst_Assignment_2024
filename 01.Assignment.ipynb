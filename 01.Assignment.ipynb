{
 "cells": [
  {
   "cell_type": "markdown",
   "id": "8055f7fa-fdf7-419f-8006-9432986fed8a",
   "metadata": {},
   "source": [
    "## 01.Assignment - Python "
   ]
  },
  {
   "cell_type": "markdown",
   "id": "baf82f77-9f14-46ab-bc43-016ba1bb5035",
   "metadata": {},
   "source": [
    "### 1.Explain the key features of Python that make it a popular choice for programming"
   ]
  },
  {
   "cell_type": "markdown",
   "id": "9b988c52-b379-4ea5-862c-2e90d485dbbc",
   "metadata": {},
   "source": [
    "---->Here are the key features of python that makes it a popular choice for programming are as follows :-\n",
    "\n",
    "### i.Simplicity and Readability:\n",
    "- Python's clean syntax emphasizes readability and reduces the cost of program maintenance .\n",
    "\n",
    "### ii. Versatility and Flexibility :\n",
    "- Supports multiple programming paradiagms and can be used accross various domains .\n",
    "\n",
    "### iii. Extensive Standard Library:\n",
    "- Includes a vast collection of modules and packages for commom tasks , reducing developement time.\n",
    "\n",
    "### iv. Interpreted and Interactive:\n",
    "- Allows quick prototyping and debugging with an interative mode and line by line execution.\n",
    "\n",
    "### v. Strong Community and Support:\n",
    "- Large community provides extensive documentation , libraries, and support recources."
   ]
  },
  {
   "cell_type": "markdown",
   "id": "a3082734-8566-41c8-a803-dcf8e4d5542f",
   "metadata": {},
   "source": [
    "### 2.Describe the role of predefined keywords in Python and provide examples of how they are used in a program"
   ]
  },
  {
   "cell_type": "markdown",
   "id": "de4b88be-9fab-4e27-a2c3-13cc4413f2c6",
   "metadata": {},
   "source": [
    "---> Predefined keywords in Python play curcial roles in defining the syntax, structure , and behavior of python programs . Here's a description of their role , along with examples of how they are used :\n",
    "\n",
    "### Roles of Predefined keywords:\n"
   ]
  },
  {
   "cell_type": "markdown",
   "id": "cc835303-f750-4777-8ca5-889899467e99",
   "metadata": {},
   "source": [
    "#### i.Syntax Definition :\n",
    "Keywords define the basic , syntax and structure of the python language.\n",
    "\n",
    "#### ii.Control Flow : \n",
    "Keywords control the flow of execution in programs , such as loops , conditional statements , and function definitions.\n",
    "\n",
    "#### iii. Declaration and Definition : \n",
    "Keywords are used to declare variables , functions , classes , and modules .\n",
    "\n",
    "#### iv. Special Functions: \n",
    "keywords mark special functions and operations within Python , like exception handling and context management ."
   ]
  },
  {
   "cell_type": "markdown",
   "id": "3129c0a3-7561-49eb-83d4-4e47cb12a6e1",
   "metadata": {},
   "source": [
    "#### Examples of predefined keywords and their usage :"
   ]
  },
  {
   "cell_type": "markdown",
   "id": "236c0b98-1692-49f4-94d8-aeb0c97009b8",
   "metadata": {},
   "source": [
    "1.Control Flow Keywords :\n",
    "- Example 'if', 'elif', 'else'"
   ]
  },
  {
   "cell_type": "code",
   "execution_count": 1,
   "id": "974541b1-7dd8-46bf-acd2-04b344e47c60",
   "metadata": {},
   "outputs": [
    {
     "name": "stdout",
     "output_type": "stream",
     "text": [
      "X is greater than 5\n"
     ]
    }
   ],
   "source": [
    "x = 10 \n",
    "if x > 5 :\n",
    "    print(\"X is greater than 5\")\n",
    "else:\n",
    "    print(\"X is less than or equal to 5\")"
   ]
  },
  {
   "cell_type": "markdown",
   "id": "c4b8a7b0-2df9-4678-a390-173f64aa313a",
   "metadata": {},
   "source": [
    "2. Loop keywords:\n",
    "- Example: 'for ' , 'while', 'break' ,'continue'\n"
   ]
  },
  {
   "cell_type": "code",
   "execution_count": 2,
   "id": "61abeaa0-6e66-466a-9cad-61ca8da9c762",
   "metadata": {},
   "outputs": [
    {
     "name": "stdout",
     "output_type": "stream",
     "text": [
      "0\n",
      "1\n",
      "2\n",
      "3\n",
      "4\n"
     ]
    }
   ],
   "source": [
    "for i in range(5):\n",
    "    print(i)"
   ]
  },
  {
   "cell_type": "markdown",
   "id": "919ae9f6-56fc-4ebd-88c1-407a7963b0dd",
   "metadata": {},
   "source": [
    "3.Function and Class Definition Keywords:\n",
    "- Example :'def','class' , 'return'"
   ]
  },
  {
   "cell_type": "code",
   "execution_count": 3,
   "id": "b46fc7f0-e743-4e98-b043-55da0378e219",
   "metadata": {},
   "outputs": [],
   "source": [
    "def greet(name):\n",
    "    return f\"Hello ,{name}!\"\n",
    "\n",
    "class MyClass:\n",
    "    def __init__(self , value):\n",
    "        self.value = value "
   ]
  },
  {
   "cell_type": "markdown",
   "id": "a749189d-0c57-46ca-be2b-df338cd8f154",
   "metadata": {},
   "source": [
    "4.Exception Handling Keywords:\n",
    "- Examples: 'try', 'except' , 'finally', 'raise'\n"
   ]
  },
  {
   "cell_type": "code",
   "execution_count": 4,
   "id": "b74865d7-6c44-4d2e-9fb5-bb85e7897550",
   "metadata": {},
   "outputs": [
    {
     "name": "stdout",
     "output_type": "stream",
     "text": [
      "Error : Division by Zero!\n"
     ]
    }
   ],
   "source": [
    "try: \n",
    "    result = 10 / 0 \n",
    "except ZeroDivisionError:\n",
    "    print(\"Error : Division by Zero!\")"
   ]
  },
  {
   "cell_type": "markdown",
   "id": "466e4534-719b-478f-a885-fd6c03366884",
   "metadata": {},
   "source": [
    "5. Context Management keywords :\n",
    "- Example : \"with\" , \"as\""
   ]
  },
  {
   "cell_type": "raw",
   "id": "7f34fd2c-21e8-4d8b-a5b4-6534ce05aa01",
   "metadata": {},
   "source": [
    "with open ('example.txt' , 'r') as file:\n",
    "    content = file.read()"
   ]
  },
  {
   "cell_type": "markdown",
   "id": "472d2d99-25b9-4389-ada0-20c5df9838e3",
   "metadata": {},
   "source": [
    "### Conclusion :\n",
    "predefiend keywords in Python are fundamental elements that define the language's syntax , structure , and behaviour .\n",
    "\n",
    "Understanding and using these keywords correctly is essential for writing effective Python programs that are readable , maintainable , and effcient . Each keywords serves a specific purpose , from defining control flow to handling execptions and managing resources , ensuring Python's  versatility and utility in diverse programming scenarios ."
   ]
  },
  {
   "cell_type": "markdown",
   "id": "4bf21c4a-732a-4d9a-94f3-5f7f19c73303",
   "metadata": {},
   "source": [
    "### 3.Compare and contrast mutable and immutable objects in Python with examples"
   ]
  },
  {
   "cell_type": "markdown",
   "id": "72e231af-b5c6-44c2-ad57-775d4215f8fa",
   "metadata": {},
   "source": [
    "#### Mutable :"
   ]
  },
  {
   "cell_type": "markdown",
   "id": "56ebb613-78b9-4ceb-8809-05f700a0a2f4",
   "metadata": {},
   "source": [
    "i)Mutable Objects that can be changed after creation (eg, lists, dictionaries)\n",
    "we can modify their content without changing identity .\n",
    "\n",
    "ii)Since ,their content can be changed , the memory location of the object remains the same , even if the content changes .\n",
    "\n",
    "iii)Mutable objects are generally more efficient for operations that involves changes as they do not require \n",
    "creating new objects for each modification .\n",
    "\n",
    "iv) Mutable objects are suitable for data structures that need to be modified frequently , like lists and dictionaries in dynamic applications .\n"
   ]
  },
  {
   "cell_type": "code",
   "execution_count": 5,
   "id": "9e2c9727-f668-467f-9c46-1c96b65c819b",
   "metadata": {},
   "outputs": [
    {
     "name": "stdout",
     "output_type": "stream",
     "text": [
      "my_list: [1, 2, 3, 4]\n",
      "my_dict: {'a': 1, 'b': 2, 'c': 3}\n"
     ]
    }
   ],
   "source": [
    "#### Mutable objects Examples:\n",
    "## Lists :\n",
    "my_list = [1 , 2, 3]\n",
    "my_list.append(4)\n",
    "print(\"my_list:\",my_list)\n",
    "\n",
    "## Dictionaries :\n",
    "my_dict ={'a':1 ,'b':2}\n",
    "my_dict['c'] = 3\n",
    "print(\"my_dict:\",my_dict)"
   ]
  },
  {
   "cell_type": "markdown",
   "id": "28bcff32-bb0a-4300-b19a-efbb633261f5",
   "metadata": {},
   "source": [
    "#### Immutable :"
   ]
  },
  {
   "cell_type": "markdown",
   "id": "04e81841-2f77-45dc-8e71-3d36b0e59857",
   "metadata": {},
   "source": [
    "i) Immutable Objects can be changed after they are created . You can modify their content without changing their identity .\n",
    "\n",
    "ii)Each change results in a new object being created at a different memory location .\n",
    "\n",
    "iii) Immutable Objects can be more memory-intensicve if many modifications are needed , as each change creates a new object . However , they are safer for concurrent access since they do not change \n",
    "\n",
    "iv)Immutable Objects are ideal for fixed data structures , like strings and tuples , where constant values are required or for use in concurrent programming to avoid race conditions."
   ]
  },
  {
   "cell_type": "code",
   "execution_count": 6,
   "id": "d164efea-bee8-441f-9c6f-410260de2c18",
   "metadata": {},
   "outputs": [
    {
     "name": "stdout",
     "output_type": "stream",
     "text": [
      "Hello, world!\n"
     ]
    }
   ],
   "source": [
    "## Immutable objects examples :\n",
    "## Tuples :\n",
    "my_tuples = (1 ,2 ,3)\n",
    "## Attempting to modify a tuple (will result in an error)\n",
    "## my_tuple[0] = 4 ## Type Error : \"Tuple\" object does not support item assignment\n",
    "\n",
    "## Strings:\n",
    "my_string = \"Hello\"\n",
    "## Concatenating strings to create a new string\n",
    "new_string = my_string + \", world!\"\n",
    "print(new_string)\n",
    "\n",
    "## Frozensets:\n",
    "my_set = frozenset({1 ,2 ,3})\n",
    "## Attempting to modify a frozen (will result in an error)\n",
    "## my_set.add(4) ## AttributeError : 'Frozensets' objects has no attribute 'add'"
   ]
  },
  {
   "cell_type": "markdown",
   "id": "0667fef1-40ca-4acc-beeb-cbebbf739d48",
   "metadata": {},
   "source": [
    "These examples illustrate how mutable objects like lists and dictionaries allow modifictions , while immutable objects such as tuples , string ,and forzensets do not support changes after creation."
   ]
  },
  {
   "cell_type": "markdown",
   "id": "16d7812a-d70f-44d8-a311-cd3944dfeb68",
   "metadata": {},
   "source": [
    "#### 4)Discuss the different types of operators in Python and provide examples of how they are used"
   ]
  },
  {
   "cell_type": "markdown",
   "id": "0de4d625-16bb-44b2-a174-ec3115826c09",
   "metadata": {},
   "source": [
    "#### 1. Arithmetic Oprators :\n",
    "- Used for basic mathematical Operations like addition, subtraction , mutiplication, division,etc."
   ]
  },
  {
   "cell_type": "code",
   "execution_count": 7,
   "id": "9c545a9b-8360-4f71-b390-a0c4280780c8",
   "metadata": {},
   "outputs": [
    {
     "name": "stdout",
     "output_type": "stream",
     "text": [
      "13\n",
      "7\n",
      "30\n",
      "3.3333333333333335\n",
      "3\n",
      "1\n",
      "1000\n"
     ]
    }
   ],
   "source": [
    "a= 10 \n",
    "b = 3\n",
    "print(a+b)\n",
    "print(a-b)\n",
    "print(a* b)\n",
    "print(a/b)\n",
    "print(a//b)\n",
    "print(a%b)\n",
    "print(a ** b)"
   ]
  },
  {
   "cell_type": "markdown",
   "id": "2ebecb73-4c79-4f12-a914-a61520b67ead",
   "metadata": {},
   "source": [
    "#### 2. Comparison Opertors \n",
    "- used to compare values and return boolean results (True and False)."
   ]
  },
  {
   "cell_type": "code",
   "execution_count": 8,
   "id": "eb4984de-1bd2-4f2b-a755-8f05c9e3f71d",
   "metadata": {},
   "outputs": [
    {
     "name": "stdout",
     "output_type": "stream",
     "text": [
      "False\n",
      "True\n",
      "False\n",
      "True\n",
      "False\n",
      "True\n"
     ]
    }
   ],
   "source": [
    "x = 5\n",
    "y = 7 \n",
    "print(x > y)\n",
    "print(x < y)\n",
    "print(x == y)\n",
    "print(x != y)\n",
    "print(x >= y)\n",
    "print(x <= y)"
   ]
  },
  {
   "cell_type": "markdown",
   "id": "b24e41ba-8f8a-40ee-9455-a554696617e6",
   "metadata": {},
   "source": [
    "#### Logical Operators:\n",
    "- Used to combine conditional Statements "
   ]
  },
  {
   "cell_type": "code",
   "execution_count": 9,
   "id": "7c94c7ac-0e2b-47f6-bb56-e99249703efc",
   "metadata": {},
   "outputs": [
    {
     "name": "stdout",
     "output_type": "stream",
     "text": [
      "False\n",
      "True\n",
      "False\n"
     ]
    }
   ],
   "source": [
    "p = True \n",
    "q = False \n",
    "print(p and q)\n",
    "print(p or q)\n",
    "print(not p )"
   ]
  },
  {
   "cell_type": "markdown",
   "id": "b617df08-848a-4314-8be5-fc5ae35058fe",
   "metadata": {},
   "source": [
    "#### 4. Assignment Operators :\n",
    "- used to assign values to varaibles , often combined with arithemetic opreations.\n"
   ]
  },
  {
   "cell_type": "code",
   "execution_count": 10,
   "id": "6c233482-c9bc-4329-9d46-a937df5f1f51",
   "metadata": {},
   "outputs": [
    {
     "name": "stdout",
     "output_type": "stream",
     "text": [
      "15\n",
      "4\n"
     ]
    }
   ],
   "source": [
    "x = 10 \n",
    "x += 5 \n",
    "print(x)\n",
    "y = 7 \n",
    "y -= 3\n",
    "print(y)"
   ]
  },
  {
   "cell_type": "markdown",
   "id": "6557fde9-bef0-44e9-8e95-1977bf2e1078",
   "metadata": {},
   "source": [
    "#### Membership Operators;\n",
    "- Used to test if a sequence (eg . list , tuple , string)contains a certain value ."
   ]
  },
  {
   "cell_type": "code",
   "execution_count": 11,
   "id": "1d75bcb1-d5d9-4dad-9f62-1e44055eda8f",
   "metadata": {},
   "outputs": [
    {
     "name": "stdout",
     "output_type": "stream",
     "text": [
      "True\n",
      "True\n"
     ]
    }
   ],
   "source": [
    "my_list = [1 ,2,3,4,5]\n",
    "print(3 in my_list)\n",
    "print(6 not in my_list)"
   ]
  },
  {
   "cell_type": "markdown",
   "id": "a1d446b3-a4e6-41a0-a5cd-7b8d47e0d44c",
   "metadata": {},
   "source": [
    "These operators are fundamental in python and are used extensively to manipulate values , control program flow , and make decision based on conditions .Each type serves specific puroses and enchaces the flexibility and power of python as a language ."
   ]
  },
  {
   "cell_type": "markdown",
   "id": "6021ce18-cbca-41ac-b32e-1753852542da",
   "metadata": {},
   "source": [
    "#### 5.Explain the concept of type casting in Python with examples."
   ]
  },
  {
   "cell_type": "markdown",
   "id": "e0db9d1c-058a-49aa-bb25-ec0566910a8b",
   "metadata": {},
   "source": [
    "Type casting in python refers to the process of converting a variable from one data type to another.\n",
    "\n",
    "- Type casting allows changing the data type of a variable to another type , which may be necessary for certain operations or compatibility reasons.\n",
    "\n",
    "- Type casting is crucial for performing operations that require operands of specific types , such as arithematic operations between integers and floats .\n",
    "\n",
    "- It facilitates data manipulation and compatibility between different data structures and libraries that may excpect different types .\n",
    "\n",
    "- Implicit Type casting :\n",
    "It automatically handled by python , such as converting integers to floats during division .\n",
    "\n",
    "- Explicit Type Casting :\n",
    "It is done explicitly in code using buit in functions like 'int ()' , 'float()','str()' , etc to convert between types as needed .\n"
   ]
  },
  {
   "cell_type": "markdown",
   "id": "03670fb5-e7ea-41fe-8658-fdff9cb2404d",
   "metadata": {},
   "source": [
    "#### Examples of Type casting :\n",
    "- Integer to float :"
   ]
  },
  {
   "cell_type": "code",
   "execution_count": 12,
   "id": "b292c50e-74b6-4e0f-ac61-5e5f24c6b53d",
   "metadata": {},
   "outputs": [
    {
     "name": "stdout",
     "output_type": "stream",
     "text": [
      "10.0\n"
     ]
    }
   ],
   "source": [
    "x = 10\n",
    "y = float(x)\n",
    "print(y)"
   ]
  },
  {
   "cell_type": "markdown",
   "id": "61167ed3-f70b-4c6e-a903-0ea43377ecfa",
   "metadata": {},
   "source": [
    "- Float to integer"
   ]
  },
  {
   "cell_type": "code",
   "execution_count": 13,
   "id": "260eb9fa-5df6-416b-b493-63b359148b1e",
   "metadata": {},
   "outputs": [
    {
     "name": "stdout",
     "output_type": "stream",
     "text": [
      "5.8\n"
     ]
    }
   ],
   "source": [
    "a = 5.8\n",
    "b = int(a)\n",
    "print(a)"
   ]
  },
  {
   "cell_type": "markdown",
   "id": "c8f5deb7-e140-4096-ab24-3b985bd77a5b",
   "metadata": {},
   "source": [
    "- String to integer "
   ]
  },
  {
   "cell_type": "code",
   "execution_count": 14,
   "id": "9c14b55e-84f7-4a4f-8561-775d570a16fd",
   "metadata": {},
   "outputs": [
    {
     "name": "stdout",
     "output_type": "stream",
     "text": [
      "123\n"
     ]
    }
   ],
   "source": [
    "num_str= \"123\"\n",
    "num_int = int(num_str)\n",
    "print(num_int)"
   ]
  },
  {
   "cell_type": "markdown",
   "id": "ed872555-1b6f-4a2a-9479-e3c8fd7d03b7",
   "metadata": {},
   "source": [
    "- integer to string "
   ]
  },
  {
   "cell_type": "code",
   "execution_count": 15,
   "id": "f0c18bc7-6a54-448b-a6f2-3cb393167651",
   "metadata": {},
   "outputs": [
    {
     "name": "stdout",
     "output_type": "stream",
     "text": [
      "456\n"
     ]
    }
   ],
   "source": [
    "num =\"456\"\n",
    "num_str = str(num)\n",
    "print(num_str)"
   ]
  },
  {
   "cell_type": "markdown",
   "id": "149448f4-aa4c-417f-8e93-8607e7437417",
   "metadata": {},
   "source": [
    "- List to Tuple "
   ]
  },
  {
   "cell_type": "code",
   "execution_count": 16,
   "id": "2f7bfd33-35eb-4de5-8a23-46507efe3020",
   "metadata": {},
   "outputs": [
    {
     "name": "stdout",
     "output_type": "stream",
     "text": [
      "(1, 2, 3)\n"
     ]
    }
   ],
   "source": [
    "my_list = [1 ,2 ,3]\n",
    "my_tuple = tuple(my_list)\n",
    "print(my_tuple)"
   ]
  },
  {
   "cell_type": "markdown",
   "id": "d2c269f4-3102-4b5d-810c-9f88aee4bcb4",
   "metadata": {},
   "source": [
    "Type casting provides flexibility in python programming by allowing variables to be dynamically converted to different types , enhancing the language's versatility in handaling various data types and operations ."
   ]
  },
  {
   "cell_type": "markdown",
   "id": "07b4bdd5-279c-4a14-b3af-0b869293de53",
   "metadata": {},
   "source": [
    "#### 6)How do conditional statements work in Python? Illustrate with examples."
   ]
  },
  {
   "cell_type": "markdown",
   "id": "6cdc3840-09ad-4f24-a6d3-58abb02d6153",
   "metadata": {},
   "source": [
    "---> Certainly , Conditional statements in python are used to execute code blocks on certain conditions .\n",
    "\n",
    "- Conditional statements allow a program to execute certain pieces of code depending on whether a specified condition is 'True' or 'False'.\n",
    "\n",
    "#### Types of Conditional statements :\n",
    "- if statements : Executes a block of code if the condition is 'True'.\n",
    "\n",
    "- elif statements: Stands for \"else if\", and allows checking mutiple conditions .\n",
    "\n",
    "- else statements : Executes a block of code if all preceeding conditions are 'False'."
   ]
  },
  {
   "cell_type": "markdown",
   "id": "c609a03d-9ddb-4a51-af66-239861ae7f88",
   "metadata": {},
   "source": [
    "### Examples :"
   ]
  },
  {
   "cell_type": "markdown",
   "id": "e8aa4f2a-e29c-4251-85f2-08c450b16c20",
   "metadata": {},
   "source": [
    "- if Statements :"
   ]
  },
  {
   "cell_type": "code",
   "execution_count": 17,
   "id": "fa7aaad1-8489-449d-bb50-8a3f373d984b",
   "metadata": {},
   "outputs": [
    {
     "name": "stdout",
     "output_type": "stream",
     "text": [
      "You are an adult\n"
     ]
    }
   ],
   "source": [
    "age = 18 \n",
    "if age >= 18 :\n",
    "    print(\"You are an adult\")"
   ]
  },
  {
   "cell_type": "markdown",
   "id": "1b4d2c41-a002-403d-9591-56c6f5174e48",
   "metadata": {},
   "source": [
    "- if-elif-else statements:"
   ]
  },
  {
   "cell_type": "code",
   "execution_count": 18,
   "id": "05ab9456-9551-4a02-ae5c-fb3faceafa93",
   "metadata": {},
   "outputs": [
    {
     "name": "stdout",
     "output_type": "stream",
     "text": [
      "Grade E\n"
     ]
    }
   ],
   "source": [
    "score = 85 \n",
    "if score >= 90 :\n",
    "    print(\"Grade O\")\n",
    "elif score >= 80 :\n",
    "    print(\"Grade E\")\n",
    "elif score >= 70 :\n",
    "    print(\"Grade A\")\n",
    "elif score >= 60 :\n",
    "    print(\"Grade B\")\n",
    "else:\n",
    "    print(\"Grade C\")"
   ]
  },
  {
   "cell_type": "markdown",
   "id": "82ff98ce-fd26-46a8-92f8-3f89fb135dc3",
   "metadata": {},
   "source": [
    "- Nested if statements:\n",
    "    "
   ]
  },
  {
   "cell_type": "code",
   "execution_count": 19,
   "id": "651e39b5-a4fb-471d-a57d-66f41289f3c7",
   "metadata": {},
   "outputs": [
    {
     "name": "stdout",
     "output_type": "stream",
     "text": [
      "Postive number\n",
      "Even Number\n"
     ]
    }
   ],
   "source": [
    "num = 10 \n",
    "if num > 0 :\n",
    "    print(\"Postive number\")\n",
    "    if num % 2 == 0 :\n",
    "        print(\"Even Number\")\n",
    "        "
   ]
  },
  {
   "cell_type": "markdown",
   "id": "2ff04adf-62ab-434a-9b98-a6b085fd4340",
   "metadata": {},
   "source": [
    "Since , Conditional statements are fundamental for decision making programs .They control the flow of execution , allowing the program to respond dynamically to different inputs and situations.\n",
    "Hence , Conditional statements enhance the flexibility and functionality of python programs by enabiling dynamic decision making based on varying conditions ."
   ]
  },
  {
   "cell_type": "markdown",
   "id": "6e5d6a8a-842e-4680-ab3b-a61b4b8df015",
   "metadata": {},
   "source": [
    "#### 7) Describe the different types of loops in Python and their use cases with examples."
   ]
  },
  {
   "cell_type": "markdown",
   "id": "c5687ca0-0de1-4cfd-a7cf-d8e4f1490efa",
   "metadata": {},
   "source": [
    "---> There are primarily two types of loops :'for'loops and 'while'loops .Each serves different use cases and can be used in various scenarios . Here's detailed description along with examples:\n"
   ]
  },
  {
   "cell_type": "markdown",
   "id": "70347d46-a568-43c9-aff2-ff46a76b7175",
   "metadata": {},
   "source": [
    "#### 1. \"for\" Loop :"
   ]
  },
  {
   "cell_type": "markdown",
   "id": "1b2bef0d-b831-4690-a47a-7cbb19fedf63",
   "metadata": {},
   "source": [
    "- Iterates over a sequence (such as list, tuple , dictionary , set , or string ) and executes a block of code for each element in the sequence .\n",
    "\n",
    "- When you know the number of iterataions in advance , such as iterating over elements in a collection."
   ]
  },
  {
   "cell_type": "markdown",
   "id": "55a188d2-c77d-4253-99d9-447b59c3d55f",
   "metadata": {},
   "source": [
    "#### Examples:"
   ]
  },
  {
   "cell_type": "code",
   "execution_count": 20,
   "id": "e971a381-ad3e-4ef5-ad1f-15ff258f3c1e",
   "metadata": {},
   "outputs": [
    {
     "name": "stdout",
     "output_type": "stream",
     "text": [
      "apple\n",
      "banana\n",
      "cherry\n"
     ]
    }
   ],
   "source": [
    "fruits = [\"apple\", \"banana\" , \"cherry\"]\n",
    "for fruit in fruits:\n",
    "    print(fruit)\n"
   ]
  },
  {
   "cell_type": "markdown",
   "id": "503d963d-4673-41fa-a178-686d96ce7c80",
   "metadata": {},
   "source": [
    "using 'range()' to iterable over a sequence of numbers :\n"
   ]
  },
  {
   "cell_type": "code",
   "execution_count": 21,
   "id": "230e7bad-2bf3-42b0-817e-eb320841bcdb",
   "metadata": {},
   "outputs": [
    {
     "name": "stdout",
     "output_type": "stream",
     "text": [
      "0\n",
      "1\n",
      "2\n",
      "3\n",
      "4\n"
     ]
    }
   ],
   "source": [
    "for i in range(5):\n",
    "    print(i)"
   ]
  },
  {
   "cell_type": "markdown",
   "id": "9e1952aa-6783-45b6-a531-b3b6d7dbcd3b",
   "metadata": {},
   "source": [
    "#### Iterating over a dictionary :\n"
   ]
  },
  {
   "cell_type": "code",
   "execution_count": 22,
   "id": "3c75c9d1-b8b3-46fa-a724-088ee11d24a7",
   "metadata": {},
   "outputs": [
    {
     "name": "stdout",
     "output_type": "stream",
     "text": [
      "Ashutosh:90\n",
      "Ashu:86\n",
      "Ballu:92\n"
     ]
    }
   ],
   "source": [
    "student_grades = {\"Ashutosh\" :90 , \"Ashu\":86 , \"Ballu\" : 92}\n",
    "\n",
    "for student , grade in student_grades.items():\n",
    "    print(f\"{student}:{grade}\")"
   ]
  },
  {
   "cell_type": "markdown",
   "id": "567cc86c-264f-4fa6-9ed3-2f1763b1a574",
   "metadata": {},
   "source": [
    "#### 2)'While' Loop:\n",
    "- Reeatedly executes a block of code as long as a given condition is 'True'.\n",
    "- when the number of iterations is not known in advance and depends on dynamic conditions ."
   ]
  },
  {
   "cell_type": "markdown",
   "id": "ed802b56-7670-43b3-8723-32ecba6d2241",
   "metadata": {},
   "source": [
    "#### Examples:\n",
    "- Simple while loop :\n"
   ]
  },
  {
   "cell_type": "code",
   "execution_count": 23,
   "id": "19dc66a1-9e33-4c3d-908f-d1db7049079a",
   "metadata": {},
   "outputs": [
    {
     "name": "stdout",
     "output_type": "stream",
     "text": [
      "0\n",
      "1\n",
      "2\n",
      "3\n",
      "4\n"
     ]
    }
   ],
   "source": [
    "count = 0 \n",
    "while count < 5 :\n",
    "    print (count)\n",
    "    count += 1 \n",
    "    "
   ]
  },
  {
   "cell_type": "markdown",
   "id": "4ad13066-0c48-4efb-b6e3-48f303d79ee2",
   "metadata": {},
   "source": [
    "- 'while' loop with user input:"
   ]
  },
  {
   "cell_type": "code",
   "execution_count": 24,
   "id": "bd47ea1b-85d1-4884-911a-e5b669b96e96",
   "metadata": {},
   "outputs": [
    {
     "name": "stdout",
     "output_type": "stream",
     "text": [
      "You entered :\n",
      "You entered :\n",
      "You entered :\n"
     ]
    }
   ],
   "source": [
    "user_input = \" \"\n",
    "while user_input.lower() != \"exit\":\n",
    "    user_input = input(\"Enter something (type 'exit' to quit):\")\n",
    "    print(f\"You entered :{user_input}\")\n",
    "    #The loop will continue until the user types 'exit'"
   ]
  },
  {
   "cell_type": "markdown",
   "id": "37493396-3ac1-4729-bbb4-84a36481a60d",
   "metadata": {},
   "source": [
    "- Infinite loop with a break condition:"
   ]
  },
  {
   "cell_type": "code",
   "execution_count": null,
   "id": "284e0372-a475-4a32-a066-9fb2671b1c10",
   "metadata": {},
   "outputs": [
    {
     "name": "stdout",
     "output_type": "stream",
     "text": [
      "Enter a number (0 to quit) 0\n"
     ]
    }
   ],
   "source": [
    "while True:\n",
    "    num = int(input(\"Enter a number (0 to quit)\"))\n",
    "    if num == 0 :\n",
    "        break \n",
    "    print(f\"You entered : {num}\")\n",
    "## The loop will continue until the user enters 0 "
   ]
  },
  {
   "cell_type": "markdown",
   "id": "d1e4ad04-d804-4a13-98ad-a9c5b72c4d89",
   "metadata": {},
   "source": [
    "#### Use cases for each type of loop :"
   ]
  },
  {
   "cell_type": "markdown",
   "id": "75545890-2584-4887-aff0-84ea08b33a29",
   "metadata": {},
   "source": [
    "- \"for\" Loop:  \n",
    "Best for iterating over sequencing (list, tuples ,dictionaries, sets , strings ) where the number of iterations is predetermined.\n",
    "\n",
    "    - Example :Processing items in a list , iterating over dictionary keys and values , executing a block of code a specific number of items using 'range()'.\n",
    "    \n",
    "- While loop :\n",
    "ideal For scanerios where the number of iterations is not known before hand and depands on some condition is met , implementing retry logic .\n",
    "\n",
    "By understanding and utilizing these loops , you can efficiently handle repetitive tasks and dynamic conditions in python programs ."
   ]
  },
  {
   "cell_type": "code",
   "execution_count": null,
   "id": "47c3a6e5-86ee-427d-8284-b28bbcb326dc",
   "metadata": {},
   "outputs": [],
   "source": []
  },
  {
   "cell_type": "code",
   "execution_count": null,
   "id": "2278c915",
   "metadata": {},
   "outputs": [],
   "source": []
  },
  {
   "cell_type": "code",
   "execution_count": null,
   "id": "b6cc9768",
   "metadata": {},
   "outputs": [],
   "source": []
  },
  {
   "cell_type": "code",
   "execution_count": null,
   "id": "d09fe505",
   "metadata": {},
   "outputs": [],
   "source": []
  },
  {
   "cell_type": "code",
   "execution_count": null,
   "id": "a36936c5",
   "metadata": {},
   "outputs": [],
   "source": []
  },
  {
   "cell_type": "code",
   "execution_count": null,
   "id": "8c32b625",
   "metadata": {},
   "outputs": [],
   "source": []
  },
  {
   "cell_type": "code",
   "execution_count": null,
   "id": "931a399a",
   "metadata": {},
   "outputs": [],
   "source": []
  },
  {
   "cell_type": "code",
   "execution_count": null,
   "id": "41824140",
   "metadata": {},
   "outputs": [],
   "source": []
  },
  {
   "cell_type": "code",
   "execution_count": null,
   "id": "20f454e7",
   "metadata": {},
   "outputs": [],
   "source": []
  },
  {
   "cell_type": "code",
   "execution_count": null,
   "id": "36d9765e",
   "metadata": {},
   "outputs": [],
   "source": []
  },
  {
   "cell_type": "code",
   "execution_count": null,
   "id": "50c96706",
   "metadata": {},
   "outputs": [],
   "source": []
  },
  {
   "cell_type": "code",
   "execution_count": null,
   "id": "f51c42a6",
   "metadata": {},
   "outputs": [],
   "source": []
  },
  {
   "cell_type": "code",
   "execution_count": null,
   "id": "e29f90b5",
   "metadata": {},
   "outputs": [],
   "source": []
  },
  {
   "cell_type": "code",
   "execution_count": null,
   "id": "9943e736",
   "metadata": {},
   "outputs": [],
   "source": []
  },
  {
   "cell_type": "code",
   "execution_count": null,
   "id": "c61923ff",
   "metadata": {},
   "outputs": [],
   "source": []
  },
  {
   "cell_type": "code",
   "execution_count": null,
   "id": "f4389ea6",
   "metadata": {},
   "outputs": [],
   "source": []
  },
  {
   "cell_type": "code",
   "execution_count": null,
   "id": "54a2fbb2",
   "metadata": {},
   "outputs": [],
   "source": []
  },
  {
   "cell_type": "code",
   "execution_count": null,
   "id": "f9110b5b",
   "metadata": {},
   "outputs": [],
   "source": []
  },
  {
   "cell_type": "code",
   "execution_count": null,
   "id": "053288ac",
   "metadata": {},
   "outputs": [],
   "source": []
  }
 ],
 "metadata": {
  "kernelspec": {
   "display_name": "Python 3 (ipykernel)",
   "language": "python",
   "name": "python3"
  },
  "language_info": {
   "codemirror_mode": {
    "name": "ipython",
    "version": 3
   },
   "file_extension": ".py",
   "mimetype": "text/x-python",
   "name": "python",
   "nbconvert_exporter": "python",
   "pygments_lexer": "ipython3",
   "version": "3.11.2"
  }
 },
 "nbformat": 4,
 "nbformat_minor": 5
}
